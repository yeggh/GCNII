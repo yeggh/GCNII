{
 "cells": [
  {
   "cell_type": "code",
   "execution_count": 18,
   "id": "4cd3575b-0467-4fc7-9709-068603e2011f",
   "metadata": {},
   "outputs": [],
   "source": [
    "import numpy as np\n",
    "import torch\n",
    "from torch_geometric.datasets import Planetoid\n",
    "import torch_geometric.transforms as T\n",
    "from scipy.sparse import coo_matrix, eye, diags, csr_matrix\n"
   ]
  },
  {
   "cell_type": "code",
   "execution_count": 19,
   "id": "0e8d53fe-97ac-4391-8700-f757ceff0619",
   "metadata": {},
   "outputs": [
    {
     "name": "stdout",
     "output_type": "stream",
     "text": [
      "Dataset: Cora\n",
      "Num. nodes: 2708 (train=140, val=500, test=1000, other=1068)\n",
      "Num. edges: 5278\n",
      "Num. node features: 1433\n",
      "Num. classes: 7\n",
      "Dataset len.: 1\n",
      "Sum of row values with normalization: tensor([1.0000, 1.0000, 1.0000,  ..., 1.0000, 1.0000, 1.0000])\n"
     ]
    }
   ],
   "source": [
    "# Load the dataset\n",
    "\n",
    "dataset = Planetoid(\"/tmp/Cora\", name=\"Cora\",transform=T.NormalizeFeatures())\n",
    "num_nodes = dataset.data.num_nodes\n",
    "num_edges = dataset.data.num_edges // 2\n",
    "train_len = dataset[0].train_mask.sum()\n",
    "val_len = dataset[0].val_mask.sum()\n",
    "test_len = dataset[0].test_mask.sum()\n",
    "other_len = num_nodes - train_len-val_len - test_len\n",
    "print(f\"Dataset: {dataset.name}\")\n",
    "print(f\"Num. nodes: {num_nodes} (train={train_len}, val={val_len}, test={test_len}, other={other_len})\")\n",
    "print(f\"Num. edges: {num_edges}\")\n",
    "print(f\"Num. node features: {dataset.num_node_features}\")\n",
    "print(f\"Num. classes: {dataset.num_classes}\")\n",
    "print(f\"Dataset len.: {dataset.len()}\")\n",
    "print(f\"Sum of row values with normalization: {dataset[0].x.sum(dim=-1)}\")"
   ]
  },
  {
   "cell_type": "code",
   "execution_count": 20,
   "id": "d33cb3a2-d338-4825-a53b-b6b0cac6daa1",
   "metadata": {},
   "outputs": [
    {
     "data": {
      "text/plain": [
       "{'x': tensor([[0., 0., 0.,  ..., 0., 0., 0.],\n",
       "         [0., 0., 0.,  ..., 0., 0., 0.],\n",
       "         [0., 0., 0.,  ..., 0., 0., 0.],\n",
       "         ...,\n",
       "         [0., 0., 0.,  ..., 0., 0., 0.],\n",
       "         [0., 0., 0.,  ..., 0., 0., 0.],\n",
       "         [0., 0., 0.,  ..., 0., 0., 0.]]),\n",
       " 'edge_index': tensor([[   0,    0,    0,  ..., 2707, 2707, 2707],\n",
       "         [ 633, 1862, 2582,  ...,  598, 1473, 2706]]),\n",
       " 'y': tensor([3, 4, 4,  ..., 3, 3, 3]),\n",
       " 'train_mask': tensor([ True,  True,  True,  ..., False, False, False]),\n",
       " 'val_mask': tensor([False, False, False,  ..., False, False, False]),\n",
       " 'test_mask': tensor([False, False, False,  ...,  True,  True,  True])}"
      ]
     },
     "execution_count": 20,
     "metadata": {},
     "output_type": "execute_result"
    }
   ],
   "source": [
    "dataset[0].to_dict()"
   ]
  },
  {
   "cell_type": "code",
   "execution_count": 21,
   "id": "568b3c71-e1f4-4606-9a43-1b61af2534f8",
   "metadata": {},
   "outputs": [],
   "source": [
    "# Function to create an adjacency matrix from edge index and edge attributes\n",
    "\n",
    "def adjacency_matrix(edge_index, edge_attr=None, num_nodes=None):\n",
    "\n",
    "\n",
    "    # If edge_attr does not exist, assign weight=1 to all edges\n",
    "    if edge_attr is None:\n",
    "        edge_attr = torch.ones(edge_index.shape[1], dtype=torch.float)\n",
    "\n",
    "    # Define the sparse adjacency matrix\n",
    "    adj_matrix_sparse = torch.sparse_coo_tensor(edge_index, edge_attr, (num_nodes, num_nodes))\n",
    "\n",
    "    # Convert to a dense matrix\n",
    "    adj_matrix = adj_matrix_sparse.to_dense()\n",
    "\n",
    "    return adj_matrix\n"
   ]
  },
  {
   "cell_type": "code",
   "execution_count": 22,
   "id": "7d242e62-5d70-46ae-b219-cfabe51747f8",
   "metadata": {},
   "outputs": [
    {
     "data": {
      "text/plain": [
       "tensor([[0., 0., 0.,  ..., 0., 0., 0.],\n",
       "        [0., 0., 1.,  ..., 0., 0., 0.],\n",
       "        [0., 1., 0.,  ..., 0., 0., 0.],\n",
       "        ...,\n",
       "        [0., 0., 0.,  ..., 0., 0., 0.],\n",
       "        [0., 0., 0.,  ..., 0., 0., 1.],\n",
       "        [0., 0., 0.,  ..., 0., 1., 0.]])"
      ]
     },
     "execution_count": 22,
     "metadata": {},
     "output_type": "execute_result"
    }
   ],
   "source": [
    "adj = adjacency_matrix(edge_index= dataset.data.edge_index, edge_attr=dataset.data.edge_attr, num_nodes=dataset.data.num_nodes)\n",
    "adj"
   ]
  },
  {
   "cell_type": "code",
   "execution_count": 23,
   "id": "58457956-09e4-452f-8a4a-7a5554232ff6",
   "metadata": {},
   "outputs": [],
   "source": [
    "# Compute the normalize adjancy matrix based on the paper P ̃ = D ̃^ −1/2.A ̃. D ̃^ −1/2 \n",
    "def normalize_adjacency_matrix(A):\n",
    "    # Ensure A is a sparse matrix\n",
    "    if not isinstance(A, csr_matrix):\n",
    "        A = csr_matrix(A)\n",
    "\n",
    "    degrees = np.array(A.sum(axis=1)).flatten()\n",
    "    D = diags(degrees)\n",
    "    D_inv_sqrt = diags(1.0 / np.sqrt(degrees))\n",
    "    normalized_A = D_inv_sqrt @ A @ D_inv_sqrt\n",
    "\n",
    "    return normalized_A"
   ]
  },
  {
   "cell_type": "code",
   "execution_count": 24,
   "id": "19940039-d315-43c8-84a9-5eecefe3e347",
   "metadata": {},
   "outputs": [],
   "source": [
    "# Convert the matrix to Tensor\n",
    "def sparse_matrix_to_torch_sparse_tensor(sparse_matrix):\n",
    "    sparse_matrix = sparse_matrix.tocoo()\n",
    "    indices = torch.LongTensor(np.vstack((sparse_matrix.row, sparse_matrix.col)))\n",
    "    values = torch.FloatTensor(sparse_matrix.data)\n",
    "    shape = torch.Size(sparse_matrix.shape)\n",
    "\n",
    "    return torch.sparse.FloatTensor(indices, values, shape)"
   ]
  },
  {
   "cell_type": "code",
   "execution_count": 25,
   "id": "480ca4ba-3db1-4600-990d-6eb64f59b4c7",
   "metadata": {},
   "outputs": [
    {
     "data": {
      "text/plain": [
       "tensor(indices=tensor([[   0,    0,    0,  ..., 2707, 2707, 2707],\n",
       "                       [ 633, 1862, 2582,  ...,  598, 1473, 2706]]),\n",
       "       values=tensor([0.3333, 0.2887, 0.3333,  ..., 0.0870, 0.2500, 0.2500]),\n",
       "       size=(2708, 2708), nnz=10556, layout=torch.sparse_coo)"
      ]
     },
     "execution_count": 25,
     "metadata": {},
     "output_type": "execute_result"
    }
   ],
   "source": [
    "pre_processed_adj = normalize_adjacency_matrix(adj)\n",
    "pre_processed_adj = sparse_matrix_to_torch_sparse_tensor(pre_processed_adj)\n",
    "pre_processed_adj"
   ]
  },
  {
   "cell_type": "code",
   "execution_count": null,
   "id": "80f8aa80-bdf9-4823-8093-6b8fb2618d25",
   "metadata": {},
   "outputs": [],
   "source": []
  }
 ],
 "metadata": {
  "kernelspec": {
   "display_name": "Python 3 (ipykernel)",
   "language": "python",
   "name": "python3"
  },
  "language_info": {
   "codemirror_mode": {
    "name": "ipython",
    "version": 3
   },
   "file_extension": ".py",
   "mimetype": "text/x-python",
   "name": "python",
   "nbconvert_exporter": "python",
   "pygments_lexer": "ipython3",
   "version": "3.8.13"
  }
 },
 "nbformat": 4,
 "nbformat_minor": 5
}
