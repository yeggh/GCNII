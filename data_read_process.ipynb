{
 "cells": [
  {
   "cell_type": "code",
   "execution_count": 1,
   "id": "344ebf64-7d7e-4a94-b99d-bc77e3a0f412",
   "metadata": {},
   "outputs": [],
   "source": [
    "from typing import Callable, List, Optional, Tuple\n",
    "import matplotlib. pyplot as plt\n",
    "import numpy as np\n",
    "import torch\n",
    "import torch.nn. functional as F\n",
    "import torch_geometric.transforms as T\n",
    "from torch import Tensor\n",
    "from torch.optim import Optimizer\n",
    "from torch_geometric.data import Data\n",
    "from torch_geometric.datasets import Planetoid\n",
    "from torch_geometric.nn import GCNConv\n",
    "from torch_geometric.utils import accuracy\n",
    "from typing_extensions import Literal, TypedDict\n",
    "from collections import defaultdict\n",
    "from typing import List, Optional, Tuple, Union\n",
    "\n",
    "import scipy.sparse\n",
    "import torch\n",
    "from torch import Tensor\n",
    "from torch.utils.dlpack import from_dlpack, to_dlpack\n",
    "\n",
    "from torch_geometric.utils.num_nodes import maybe_num_nodes"
   ]
  },
  {
   "cell_type": "code",
   "execution_count": 2,
   "id": "61c857e5-adff-4a9f-916b-6481e744d0bb",
   "metadata": {},
   "outputs": [
    {
     "name": "stdout",
     "output_type": "stream",
     "text": [
      "Dataset: Cora\n",
      "Num. nodes: 2708 (train=140, val=500, test=1000, other=1068)\n",
      "Num. edges: 5278\n",
      "Num. node features: 1433\n",
      "Num. classes: 7\n",
      "Dataset len.: 1\n"
     ]
    }
   ],
   "source": [
    "dataset = Planetoid(\"/tmp/Cora\", name=\"Cora\")\n",
    "num_nodes = dataset.data.num_nodes\n",
    "num_edges = dataset.data.num_edges // 2\n",
    "train_len = dataset[0].train_mask.sum()\n",
    "val_len = dataset[0].val_mask.sum()\n",
    "test_len = dataset[0].test_mask.sum()\n",
    "other_len = num_nodes - train_len-val_len - test_len\n",
    "print(f\"Dataset: {dataset.name}\")\n",
    "print(f\"Num. nodes: {num_nodes} (train={train_len}, val={val_len}, test={test_len}, other={other_len})\")\n",
    "print(f\"Num. edges: {num_edges}\")\n",
    "print(f\"Num. node features: {dataset.num_node_features}\")\n",
    "print(f\"Num. classes: {dataset.num_classes}\")\n",
    "print(f\"Dataset len.: {dataset.len()}\")"
   ]
  },
  {
   "cell_type": "code",
   "execution_count": 3,
   "id": "04b38aa5-ffeb-41a1-bc63-347c5115485c",
   "metadata": {},
   "outputs": [
    {
     "data": {
      "text/plain": [
       "['__call__',\n",
       " '__cat_dim__',\n",
       " '__class__',\n",
       " '__contains__',\n",
       " '__copy__',\n",
       " '__deepcopy__',\n",
       " '__delattr__',\n",
       " '__delitem__',\n",
       " '__dict__',\n",
       " '__dir__',\n",
       " '__doc__',\n",
       " '__eq__',\n",
       " '__format__',\n",
       " '__ge__',\n",
       " '__getattr__',\n",
       " '__getattribute__',\n",
       " '__getitem__',\n",
       " '__getstate__',\n",
       " '__gt__',\n",
       " '__hash__',\n",
       " '__inc__',\n",
       " '__init__',\n",
       " '__init_subclass__',\n",
       " '__iter__',\n",
       " '__le__',\n",
       " '__len__',\n",
       " '__lt__',\n",
       " '__module__',\n",
       " '__ne__',\n",
       " '__new__',\n",
       " '__reduce__',\n",
       " '__reduce_ex__',\n",
       " '__repr__',\n",
       " '__setattr__',\n",
       " '__setitem__',\n",
       " '__setstate__',\n",
       " '__sizeof__',\n",
       " '__str__',\n",
       " '__subclasshook__',\n",
       " '__weakref__',\n",
       " '_store',\n",
       " 'apply',\n",
       " 'apply_',\n",
       " 'batch',\n",
       " 'clone',\n",
       " 'coalesce',\n",
       " 'contains_isolated_nodes',\n",
       " 'contains_self_loops',\n",
       " 'contiguous',\n",
       " 'cpu',\n",
       " 'cuda',\n",
       " 'debug',\n",
       " 'detach',\n",
       " 'detach_',\n",
       " 'edge_attr',\n",
       " 'edge_index',\n",
       " 'edge_stores',\n",
       " 'edge_weight',\n",
       " 'from_dict',\n",
       " 'has_isolated_nodes',\n",
       " 'has_self_loops',\n",
       " 'is_coalesced',\n",
       " 'is_cuda',\n",
       " 'is_directed',\n",
       " 'is_edge_attr',\n",
       " 'is_node_attr',\n",
       " 'is_undirected',\n",
       " 'keys',\n",
       " 'node_stores',\n",
       " 'num_edge_features',\n",
       " 'num_edges',\n",
       " 'num_faces',\n",
       " 'num_features',\n",
       " 'num_node_features',\n",
       " 'num_nodes',\n",
       " 'pin_memory',\n",
       " 'pos',\n",
       " 'record_stream',\n",
       " 'requires_grad_',\n",
       " 'share_memory_',\n",
       " 'size',\n",
       " 'stores',\n",
       " 'stores_as',\n",
       " 'subgraph',\n",
       " 'to',\n",
       " 'to_dict',\n",
       " 'to_heterogeneous',\n",
       " 'to_namedtuple',\n",
       " 'x',\n",
       " 'y']"
      ]
     },
     "execution_count": 3,
     "metadata": {},
     "output_type": "execute_result"
    }
   ],
   "source": [
    "dir(dataset.data)"
   ]
  },
  {
   "cell_type": "code",
   "execution_count": 4,
   "id": "93b656e3-c101-44a2-84b8-bb05da824eb1",
   "metadata": {},
   "outputs": [
    {
     "data": {
      "text/plain": [
       "tensor([[   0,    0,    0,  ..., 2707, 2707, 2707],\n",
       "        [ 633, 1862, 2582,  ...,  598, 1473, 2706]])"
      ]
     },
     "execution_count": 4,
     "metadata": {},
     "output_type": "execute_result"
    }
   ],
   "source": [
    "dataset.data.edge_index"
   ]
  },
  {
   "cell_type": "code",
   "execution_count": 5,
   "id": "7540be00-3c98-429b-af41-1f32c157ad97",
   "metadata": {},
   "outputs": [],
   "source": [
    "def to_scipy_sparse_matrix(edge_index, edge_attr, num_nodes):\n",
    "    r\"\"\"Converts a graph given by edge indices and edge attributes to a scipy\n",
    "    sparse matrix.\n",
    "\n",
    "    Args:\n",
    "        edge_index (LongTensor): The edge indices.\n",
    "        edge_attr (Tensor, optional): Edge weights or multi-dimensional\n",
    "            edge features. (default: :obj:`None`)\n",
    "        num_nodes (int, optional): The number of nodes, *i.e.*\n",
    "            :obj:`max_val + 1` of :attr:`index`. (default: :obj:`None`)\n",
    "    \"\"\"\n",
    "    row, col = edge_index.cpu()\n",
    "\n",
    "    if edge_attr is None:\n",
    "        edge_attr = torch.ones(row.size(0))\n",
    "    else:\n",
    "        edge_attr = edge_attr.view(-1).cpu()\n",
    "        assert edge_attr.size(0) == row.size(0)\n",
    "\n",
    "    N = maybe_num_nodes(edge_index, num_nodes)\n",
    "    out = scipy.sparse.coo_matrix(\n",
    "        (edge_attr.numpy(), (row.numpy(), col.numpy())), (N, N))\n",
    "    return out"
   ]
  },
  {
   "cell_type": "code",
   "execution_count": 6,
   "id": "69459be3-365a-4f3d-af52-8b75eca3a9be",
   "metadata": {},
   "outputs": [],
   "source": [
    "adj_sparse = to_scipy_sparse_matrix(edge_index= dataset.data.edge_index, edge_attr=dataset.data.edge_attr, num_nodes=dataset.data.num_nodes)\n",
    "adj_sparse = adj_sparse.todense(order=None, out=None)\n",
    "adj_sparse_tensor = torch.from_numpy(adj_sparse).float()"
   ]
  },
  {
   "cell_type": "code",
   "execution_count": 7,
   "id": "50e5af32-966d-4f20-b272-080c8768bba1",
   "metadata": {},
   "outputs": [
    {
     "data": {
      "text/plain": [
       "tensor([[0., 0., 0.,  ..., 0., 0., 0.],\n",
       "        [0., 0., 1.,  ..., 0., 0., 0.],\n",
       "        [0., 1., 0.,  ..., 0., 0., 0.],\n",
       "        ...,\n",
       "        [0., 0., 0.,  ..., 0., 0., 0.],\n",
       "        [0., 0., 0.,  ..., 0., 0., 1.],\n",
       "        [0., 0., 0.,  ..., 0., 1., 0.]])"
      ]
     },
     "execution_count": 7,
     "metadata": {},
     "output_type": "execute_result"
    }
   ],
   "source": [
    "adj_sparse_tensor"
   ]
  },
  {
   "cell_type": "code",
   "execution_count": null,
   "id": "a323f079-0172-4711-9ad5-79c829b2dc54",
   "metadata": {},
   "outputs": [],
   "source": []
  }
 ],
 "metadata": {
  "kernelspec": {
   "display_name": "Python 3 (ipykernel)",
   "language": "python",
   "name": "python3"
  },
  "language_info": {
   "codemirror_mode": {
    "name": "ipython",
    "version": 3
   },
   "file_extension": ".py",
   "mimetype": "text/x-python",
   "name": "python",
   "nbconvert_exporter": "python",
   "pygments_lexer": "ipython3",
   "version": "3.8.13"
  }
 },
 "nbformat": 4,
 "nbformat_minor": 5
}
